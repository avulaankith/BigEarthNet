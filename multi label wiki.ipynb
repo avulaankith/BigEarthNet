{
 "cells": [
  {
   "cell_type": "code",
   "execution_count": 1,
   "id": "ee5386e0",
   "metadata": {},
   "outputs": [
    {
     "name": "stdout",
     "output_type": "stream",
     "text": [
      "[1/5] Loss: 0.094\n",
      "[2/5] Loss: 0.006\n",
      "[3/5] Loss: 0.001\n",
      "[4/5] Loss: 0.000\n",
      "[5/5] Loss: 0.000\n"
     ]
    }
   ],
   "source": [
    "import torch\n",
    "import torch.nn as nn\n",
    "import numpy as np\n",
    "import torch.optim as optim\n",
    "from torch.autograd import Variable\n",
    "\n",
    "# (1, 0) => target labels 0+2\n",
    "# (0, 1) => target labels 1\n",
    "# (1, 1) => target labels 3\n",
    "train = []\n",
    "labels = []\n",
    "for i in range(10000):\n",
    "    category = (np.random.choice([0, 1]), np.random.choice([0, 1]))\n",
    "    if category == (1, 0):\n",
    "        train.append([np.random.uniform(0.1, 1), 0])\n",
    "        labels.append([1, 0, 1])\n",
    "    if category == (0, 1):\n",
    "        train.append([0, np.random.uniform(0.1, 1)])\n",
    "        labels.append([0, 1, 0])\n",
    "    if category == (0, 0):\n",
    "        train.append([np.random.uniform(0.1, 1), np.random.uniform(0.1, 1)])\n",
    "        labels.append([0, 0, 1])\n",
    "\n",
    "class _classifier(nn.Module):\n",
    "    def __init__(self, nlabel):\n",
    "        super(_classifier, self).__init__()\n",
    "        self.main = nn.Sequential(\n",
    "            nn.Linear(2, 64),\n",
    "            nn.ReLU(),\n",
    "            nn.Linear(64, nlabel),\n",
    "        )\n",
    "\n",
    "    def forward(self, input):\n",
    "        return self.main(input)\n",
    "\n",
    "nlabel = len(labels[0]) # => 3\n",
    "classifier = _classifier(nlabel)\n",
    "\n",
    "optimizer = optim.Adam(classifier.parameters())\n",
    "criterion = nn.MultiLabelSoftMarginLoss()\n",
    "\n",
    "epochs = 5\n",
    "for epoch in range(epochs):\n",
    "    losses = []\n",
    "    for i, sample in enumerate(train):\n",
    "        inputv = Variable(torch.FloatTensor(sample)).view(1, -1)\n",
    "        labelsv = Variable(torch.FloatTensor(labels[i])).view(1, -1)\n",
    "        \n",
    "        output = classifier(inputv)\n",
    "        loss = criterion(output, labelsv)\n",
    "\n",
    "        optimizer.zero_grad()\n",
    "        loss.backward()\n",
    "        optimizer.step()\n",
    "        losses.append(loss.data.mean())\n",
    "    print('[%d/%d] Loss: %.3f' % (epoch+1, epochs, np.mean(losses)))"
   ]
  },
  {
   "cell_type": "code",
   "execution_count": 7,
   "id": "9f4c82b3",
   "metadata": {},
   "outputs": [
    {
     "name": "stdout",
     "output_type": "stream",
     "text": [
      "tensor([[0.3695, 0.0000]])\n",
      "tensor([[ 10.6185, -43.8186,  43.5537]], grad_fn=<AddmmBackward>)\n",
      "tensor([[1., 0., 1.]])\n"
     ]
    }
   ],
   "source": [
    "print(inputv)\n",
    "print(output)\n",
    "print(labelsv)"
   ]
  },
  {
   "cell_type": "code",
   "execution_count": 8,
   "id": "00155105",
   "metadata": {},
   "outputs": [
    {
     "name": "stdout",
     "output_type": "stream",
     "text": [
      "tensor(8.1459e-06, grad_fn=<MeanBackward0>)\n",
      "Loss: 0.000\n"
     ]
    }
   ],
   "source": [
    "loss = criterion(output,labelsv)\n",
    "print(criterion(output,labelsv))\n",
    "print('Loss: %.3f' % (loss))"
   ]
  },
  {
   "cell_type": "code",
   "execution_count": 6,
   "id": "e8495a79",
   "metadata": {},
   "outputs": [
    {
     "name": "stdout",
     "output_type": "stream",
     "text": [
      "Loss: 0.000\n",
      "Loss =  8.145868e-06\n"
     ]
    }
   ],
   "source": [
    "losses = []\n",
    "losses.append(loss.data.mean())\n",
    "print('Loss: %.3f' % (np.mean(losses)))\n",
    "print(\"Loss = \",np.mean(losses))"
   ]
  },
  {
   "cell_type": "code",
   "execution_count": 9,
   "id": "d44b1864",
   "metadata": {},
   "outputs": [
    {
     "name": "stdout",
     "output_type": "stream",
     "text": [
      "[tensor(8.1459e-06)]\n"
     ]
    }
   ],
   "source": [
    "print(losses)"
   ]
  },
  {
   "cell_type": "code",
   "execution_count": null,
   "id": "05ce12b4",
   "metadata": {},
   "outputs": [],
   "source": [
    "# ref: https://gist.github.com/bartolsthoorn/36c813a4becec1b260392f5353c8b7cc"
   ]
  }
 ],
 "metadata": {
  "kernelspec": {
   "display_name": "Python 3 (ipykernel)",
   "language": "python",
   "name": "python3"
  },
  "language_info": {
   "codemirror_mode": {
    "name": "ipython",
    "version": 3
   },
   "file_extension": ".py",
   "mimetype": "text/x-python",
   "name": "python",
   "nbconvert_exporter": "python",
   "pygments_lexer": "ipython3",
   "version": "3.9.7"
  }
 },
 "nbformat": 4,
 "nbformat_minor": 5
}
